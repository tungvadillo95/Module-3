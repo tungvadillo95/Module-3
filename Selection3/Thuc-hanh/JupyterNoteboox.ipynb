{
    "metadata": {
        "kernelspec": {
            "name": "SQL",
            "display_name": "SQL",
            "language": "sql"
        },
        "language_info": {
            "name": "sql",
            "version": ""
        }
    },
    "nbformat_minor": 2,
    "nbformat": 4,
    "cells": [
        {
            "cell_type": "code",
            "source": [
                "SELECT * FROM Customers\r\n",
                "GO\r\n",
                "\r\n",
                "SELECT TOP 10 CustomerID, ContactName, City, Country, Phone\r\n",
                "FROM Customers\r\n",
                "GO\r\n",
                "\r\n",
                "SELECT * FROM Orders\r\n",
                "WHERE CustomerID = 'ALFKI'\r\n",
                "GO\r\n",
                "\r\n",
                "SELECT\r\n",
                "       ProductID,\r\n",
                "       COUNT(OrderID) 'Orders Count',\r\n",
                "       SUM((1 - Discount) * UnitPrice * Quantity) 'Sales'\r\n",
                "FROM [Order Details]\r\n",
                "GROUP BY ProductID\r\n",
                "ORDER BY Sales DESC\r\n",
                "GO"
            ],
            "metadata": {
                "azdata_cell_guid": "99f954d2-909f-4a8e-a627-f36f0ebbada7"
            },
            "outputs": [
                {
                    "output_type": "display_data",
                    "data": {
                        "text/html": "(91 rows affected)"
                    },
                    "metadata": {}
                },
                {
                    "output_type": "display_data",
                    "data": {
                        "text/html": "(10 rows affected)"
                    },
                    "metadata": {}
                },
                {
                    "output_type": "execute_result",
                    "metadata": {},
                    "execution_count": 3,
                    "data": {
                        "application/vnd.dataresource+json": {
                            "schema": {
                                "fields": [
                                    {
                                        "name": "CustomerID"
                                    },
                                    {
                                        "name": "CompanyName"
                                    },
                                    {
                                        "name": "ContactName"
                                    },
                                    {
                                        "name": "ContactTitle"
                                    },
                                    {
                                        "name": "Address"
                                    },
                                    {
                                        "name": "City"
                                    },
                                    {
                                        "name": "Region"
                                    },
                                    {
                                        "name": "PostalCode"
                                    },
                                    {
                                        "name": "Country"
                                    },
                                    {
                                        "name": "Phone"
                                    },
                                    {
                                        "name": "Fax"
                                    }
                                ]
                            },
                            "data": [
                                {
                                    "0": "ALFKI",
                                    "1": "Alfreds Futterkiste",
                                    "2": "Maria Anders",
                                    "3": "Sales Representative",
                                    "4": "Obere Str. 57",
                                    "5": "Berlin",
                                    "6": "NULL",
                                    "7": "12209",
                                    "8": "Germany",
                                    "9": "030-0074321",
                                    "10": "030-0076545"
                                },
                                {
                                    "0": "ANATR",
                                    "1": "Ana Trujillo Emparedados y helados",
                                    "2": "Ana Trujillo",
                                    "3": "Owner",
                                    "4": "Avda. de la Constitución 2222",
                                    "5": "México D.F.",
                                    "6": "NULL",
                                    "7": "05021",
                                    "8": "Mexico",
                                    "9": "(5) 555-4729",
                                    "10": "(5) 555-3745"
                                },
                                {
                                    "0": "ANTON",
                                    "1": "Antonio Moreno Taquería",
                                    "2": "Antonio Moreno",
                                    "3": "Owner",
                                    "4": "Mataderos  2312",
                                    "5": "México D.F.",
                                    "6": "NULL",
                                    "7": "05023",
                                    "8": "Mexico",
                                    "9": "(5) 555-3932",
                                    "10": "NULL"
                                },
                                {
                                    "0": "AROUT",
                                    "1": "Around the Horn",
                                    "2": "Thomas Hardy",
                                    "3": "Sales Representative",
                                    "4": "120 Hanover Sq.",
                                    "5": "London",
                                    "6": "NULL",
                                    "7": "WA1 1DP",
                                    "8": "UK",
                                    "9": "(171) 555-7788",
                                    "10": "(171) 555-6750"
                                },
                                {
                                    "0": "BERGS",
                                    "1": "Berglunds snabbköp",
                                    "2": "Christina Berglund",
                                    "3": "Order Administrator",
                                    "4": "Berguvsvägen  8",
                                    "5": "Luleå",
                                    "6": "NULL",
                                    "7": "S-958 22",
                                    "8": "Sweden",
                                    "9": "0921-12 34 65",
                                    "10": "0921-12 34 67"
                                },
                                {
                                    "0": "BLAUS",
                                    "1": "Blauer See Delikatessen",
                                    "2": "Hanna Moos",
                                    "3": "Sales Representative",
                                    "4": "Forsterstr. 57",
                                    "5": "Mannheim",
                                    "6": "NULL",
                                    "7": "68306",
                                    "8": "Germany",
                                    "9": "0621-08460",
                                    "10": "0621-08924"
                                },
                                {
                                    "0": "BLONP",
                                    "1": "Blondesddsl père et fils",
                                    "2": "Frédérique Citeaux",
                                    "3": "Marketing Manager",
                                    "4": "24, place Kléber",
                                    "5": "Strasbourg",
                                    "6": "NULL",
                                    "7": "67000",
                                    "8": "France",
                                    "9": "88.60.15.31",
                                    "10": "88.60.15.32"
                                },
                                {
                                    "0": "BOLID",
                                    "1": "Bólido Comidas preparadas",
                                    "2": "Martín Sommer",
                                    "3": "Owner",
                                    "4": "C/ Araquil, 67",
                                    "5": "Madrid",
                                    "6": "NULL",
                                    "7": "28023",
                                    "8": "Spain",
                                    "9": "(91) 555 22 82",
                                    "10": "(91) 555 91 99"
                                },
                                {
                                    "0": "BONAP",
                                    "1": "Bon app'",
                                    "2": "Laurence Lebihan",
                                    "3": "Owner",
                                    "4": "12, rue des Bouchers",
                                    "5": "Marseille",
                                    "6": "NULL",
                                    "7": "13008",
                                    "8": "France",
                                    "9": "91.24.45.40",
                                    "10": "91.24.45.41"
                                },
                                {
                                    "0": "BOTTM",
                                    "1": "Bottom-Dollar Markets",
                                    "2": "Elizabeth Lincoln",
                                    "3": "Accounting Manager",
                                    "4": "23 Tsawassen Blvd.",
                                    "5": "Tsawassen",
                                    "6": "BC",
                                    "7": "T2F 8M4",
                                    "8": "Canada",
                                    "9": "(604) 555-4729",
                                    "10": "(604) 555-3745"
                                },
                                {
                                    "0": "BSBEV",
                                    "1": "B's Beverages",
                                    "2": "Victoria Ashworth",
                                    "3": "Sales Representative",
                                    "4": "Fauntleroy Circus",
                                    "5": "London",
                                    "6": "NULL",
                                    "7": "EC2 5NT",
                                    "8": "UK",
                                    "9": "(171) 555-1212",
                                    "10": "NULL"
                                },
                                {
                                    "0": "CACTU",
                                    "1": "Cactus Comidas para llevar",
                                    "2": "Patricio Simpson",
                                    "3": "Sales Agent",
                                    "4": "Cerrito 333",
                                    "5": "Buenos Aires",
                                    "6": "NULL",
                                    "7": "1010",
                                    "8": "Argentina",
                                    "9": "(1) 135-5555",
                                    "10": "(1) 135-4892"
                                },
                                {
                                    "0": "CENTC",
                                    "1": "Centro comercial Moctezuma",
                                    "2": "Francisco Chang",
                                    "3": "Marketing Manager",
                                    "4": "Sierras de Granada 9993",
                                    "5": "México D.F.",
                                    "6": "NULL",
                                    "7": "05022",
                                    "8": "Mexico",
                                    "9": "(5) 555-3392",
                                    "10": "(5) 555-7293"
                                },
                                {
                                    "0": "CHOPS",
                                    "1": "Chop-suey Chinese",
                                    "2": "Yang Wang",
                                    "3": "Owner",
                                    "4": "Hauptstr. 29",
                                    "5": "Bern",
                                    "6": "NULL",
                                    "7": "3012",
                                    "8": "Switzerland",
                                    "9": "0452-076545",
                                    "10": "NULL"
                                },
                                {
                                    "0": "COMMI",
                                    "1": "Comércio Mineiro",
                                    "2": "Pedro Afonso",
                                    "3": "Sales Associate",
                                    "4": "Av. dos Lusíadas, 23",
                                    "5": "Sao Paulo",
                                    "6": "SP",
                                    "7": "05432-043",
                                    "8": "Brazil",
                                    "9": "(11) 555-7647",
                                    "10": "NULL"
                                },
                                {
                                    "0": "CONSH",
                                    "1": "Consolidated Holdings",
                                    "2": "Elizabeth Brown",
                                    "3": "Sales Representative",
                                    "4": "Berkeley Gardens 12  Brewery",
                                    "5": "London",
                                    "6": "NULL",
                                    "7": "WX1 6LT",
                                    "8": "UK",
                                    "9": "(171) 555-2282",
                                    "10": "(171) 555-9199"
                                },
                                {
                                    "0": "DRACD",
                                    "1": "Drachenblut Delikatessen",
                                    "2": "Sven Ottlieb",
                                    "3": "Order Administrator",
                                    "4": "Walserweg 21",
                                    "5": "Aachen",
                                    "6": "NULL",
                                    "7": "52066",
                                    "8": "Germany",
                                    "9": "0241-039123",
                                    "10": "0241-059428"
                                },
                                {
                                    "0": "DUMON",
                                    "1": "Du monde entier",
                                    "2": "Janine Labrune",
                                    "3": "Owner",
                                    "4": "67, rue des Cinquante Otages",
                                    "5": "Nantes",
                                    "6": "NULL",
                                    "7": "44000",
                                    "8": "France",
                                    "9": "40.67.88.88",
                                    "10": "40.67.89.89"
                                },
                                {
                                    "0": "EASTC",
                                    "1": "Eastern Connection",
                                    "2": "Ann Devon",
                                    "3": "Sales Agent",
                                    "4": "35 King George",
                                    "5": "London",
                                    "6": "NULL",
                                    "7": "WX3 6FW",
                                    "8": "UK",
                                    "9": "(171) 555-0297",
                                    "10": "(171) 555-3373"
                                },
                                {
                                    "0": "ERNSH",
                                    "1": "Ernst Handel",
                                    "2": "Roland Mendel",
                                    "3": "Sales Manager",
                                    "4": "Kirchgasse 6",
                                    "5": "Graz",
                                    "6": "NULL",
                                    "7": "8010",
                                    "8": "Austria",
                                    "9": "7675-3425",
                                    "10": "7675-3426"
                                },
                                {
                                    "0": "FAMIA",
                                    "1": "Familia Arquibaldo",
                                    "2": "Aria Cruz",
                                    "3": "Marketing Assistant",
                                    "4": "Rua Orós, 92",
                                    "5": "Sao Paulo",
                                    "6": "SP",
                                    "7": "05442-030",
                                    "8": "Brazil",
                                    "9": "(11) 555-9857",
                                    "10": "NULL"
                                },
                                {
                                    "0": "FISSA",
                                    "1": "FISSA Fabrica Inter. Salchichas S.A.",
                                    "2": "Diego Roel",
                                    "3": "Accounting Manager",
                                    "4": "C/ Moralzarzal, 86",
                                    "5": "Madrid",
                                    "6": "NULL",
                                    "7": "28034",
                                    "8": "Spain",
                                    "9": "(91) 555 94 44",
                                    "10": "(91) 555 55 93"
                                },
                                {
                                    "0": "FOLIG",
                                    "1": "Folies gourmandes",
                                    "2": "Martine Rancé",
                                    "3": "Assistant Sales Agent",
                                    "4": "184, chaussée de Tournai",
                                    "5": "Lille",
                                    "6": "NULL",
                                    "7": "59000",
                                    "8": "France",
                                    "9": "20.16.10.16",
                                    "10": "20.16.10.17"
                                },
                                {
                                    "0": "FOLKO",
                                    "1": "Folk och fä HB",
                                    "2": "Maria Larsson",
                                    "3": "Owner",
                                    "4": "Åkergatan 24",
                                    "5": "Bräcke",
                                    "6": "NULL",
                                    "7": "S-844 67",
                                    "8": "Sweden",
                                    "9": "0695-34 67 21",
                                    "10": "NULL"
                                },
                                {
                                    "0": "FRANK",
                                    "1": "Frankenversand",
                                    "2": "Peter Franken",
                                    "3": "Marketing Manager",
                                    "4": "Berliner Platz 43",
                                    "5": "München",
                                    "6": "NULL",
                                    "7": "80805",
                                    "8": "Germany",
                                    "9": "089-0877310",
                                    "10": "089-0877451"
                                },
                                {
                                    "0": "FRANR",
                                    "1": "France restauration",
                                    "2": "Carine Schmitt",
                                    "3": "Marketing Manager",
                                    "4": "54, rue Royale",
                                    "5": "Nantes",
                                    "6": "NULL",
                                    "7": "44000",
                                    "8": "France",
                                    "9": "40.32.21.21",
                                    "10": "40.32.21.20"
                                },
                                {
                                    "0": "FRANS",
                                    "1": "Franchi S.p.A.",
                                    "2": "Paolo Accorti",
                                    "3": "Sales Representative",
                                    "4": "Via Monte Bianco 34",
                                    "5": "Torino",
                                    "6": "NULL",
                                    "7": "10100",
                                    "8": "Italy",
                                    "9": "011-4988260",
                                    "10": "011-4988261"
                                },
                                {
                                    "0": "FURIB",
                                    "1": "Furia Bacalhau e Frutos do Mar",
                                    "2": "Lino Rodriguez",
                                    "3": "Sales Manager",
                                    "4": "Jardim das rosas n. 32",
                                    "5": "Lisboa",
                                    "6": "NULL",
                                    "7": "1675",
                                    "8": "Portugal",
                                    "9": "(1) 354-2534",
                                    "10": "(1) 354-2535"
                                },
                                {
                                    "0": "GALED",
                                    "1": "Galería del gastrónomo",
                                    "2": "Eduardo Saavedra",
                                    "3": "Marketing Manager",
                                    "4": "Rambla de Cataluña, 23",
                                    "5": "Barcelona",
                                    "6": "NULL",
                                    "7": "08022",
                                    "8": "Spain",
                                    "9": "(93) 203 4560",
                                    "10": "(93) 203 4561"
                                },
                                {
                                    "0": "GODOS",
                                    "1": "Godos Cocina Típica",
                                    "2": "José Pedro Freyre",
                                    "3": "Sales Manager",
                                    "4": "C/ Romero, 33",
                                    "5": "Sevilla",
                                    "6": "NULL",
                                    "7": "41101",
                                    "8": "Spain",
                                    "9": "(95) 555 82 82",
                                    "10": "NULL"
                                },
                                {
                                    "0": "GOURL",
                                    "1": "Gourmet Lanchonetes",
                                    "2": "André Fonseca",
                                    "3": "Sales Associate",
                                    "4": "Av. Brasil, 442",
                                    "5": "Campinas",
                                    "6": "SP",
                                    "7": "04876-786",
                                    "8": "Brazil",
                                    "9": "(11) 555-9482",
                                    "10": "NULL"
                                },
                                {
                                    "0": "GREAL",
                                    "1": "Great Lakes Food Market",
                                    "2": "Howard Snyder",
                                    "3": "Marketing Manager",
                                    "4": "2732 Baker Blvd.",
                                    "5": "Eugene",
                                    "6": "OR",
                                    "7": "97403",
                                    "8": "USA",
                                    "9": "(503) 555-7555",
                                    "10": "NULL"
                                },
                                {
                                    "0": "GROSR",
                                    "1": "GROSELLA-Restaurante",
                                    "2": "Manuel Pereira",
                                    "3": "Owner",
                                    "4": "5ª Ave. Los Palos Grandes",
                                    "5": "Caracas",
                                    "6": "DF",
                                    "7": "1081",
                                    "8": "Venezuela",
                                    "9": "(2) 283-2951",
                                    "10": "(2) 283-3397"
                                },
                                {
                                    "0": "HANAR",
                                    "1": "Hanari Carnes",
                                    "2": "Mario Pontes",
                                    "3": "Accounting Manager",
                                    "4": "Rua do Paço, 67",
                                    "5": "Rio de Janeiro",
                                    "6": "RJ",
                                    "7": "05454-876",
                                    "8": "Brazil",
                                    "9": "(21) 555-0091",
                                    "10": "(21) 555-8765"
                                },
                                {
                                    "0": "HILAA",
                                    "1": "HILARION-Abastos",
                                    "2": "Carlos Hernández",
                                    "3": "Sales Representative",
                                    "4": "Carrera 22 con Ave. Carlos Soublette #8-35",
                                    "5": "San Cristóbal",
                                    "6": "Táchira",
                                    "7": "5022",
                                    "8": "Venezuela",
                                    "9": "(5) 555-1340",
                                    "10": "(5) 555-1948"
                                },
                                {
                                    "0": "HUNGC",
                                    "1": "Hungry Coyote Import Store",
                                    "2": "Yoshi Latimer",
                                    "3": "Sales Representative",
                                    "4": "City Center Plaza 516 Main St.",
                                    "5": "Elgin",
                                    "6": "OR",
                                    "7": "97827",
                                    "8": "USA",
                                    "9": "(503) 555-6874",
                                    "10": "(503) 555-2376"
                                },
                                {
                                    "0": "HUNGO",
                                    "1": "Hungry Owl All-Night Grocers",
                                    "2": "Patricia McKenna",
                                    "3": "Sales Associate",
                                    "4": "8 Johnstown Road",
                                    "5": "Cork",
                                    "6": "Co. Cork",
                                    "7": "NULL",
                                    "8": "Ireland",
                                    "9": "2967 542",
                                    "10": "2967 3333"
                                },
                                {
                                    "0": "ISLAT",
                                    "1": "Island Trading",
                                    "2": "Helen Bennett",
                                    "3": "Marketing Manager",
                                    "4": "Garden House Crowther Way",
                                    "5": "Cowes",
                                    "6": "Isle of Wight",
                                    "7": "PO31 7PJ",
                                    "8": "UK",
                                    "9": "(198) 555-8888",
                                    "10": "NULL"
                                },
                                {
                                    "0": "KOENE",
                                    "1": "Königlich Essen",
                                    "2": "Philip Cramer",
                                    "3": "Sales Associate",
                                    "4": "Maubelstr. 90",
                                    "5": "Brandenburg",
                                    "6": "NULL",
                                    "7": "14776",
                                    "8": "Germany",
                                    "9": "0555-09876",
                                    "10": "NULL"
                                },
                                {
                                    "0": "LACOR",
                                    "1": "La corne d'abondance",
                                    "2": "Daniel Tonini",
                                    "3": "Sales Representative",
                                    "4": "67, avenue de l'Europe",
                                    "5": "Versailles",
                                    "6": "NULL",
                                    "7": "78000",
                                    "8": "France",
                                    "9": "30.59.84.10",
                                    "10": "30.59.85.11"
                                },
                                {
                                    "0": "LAMAI",
                                    "1": "La maison d'Asie",
                                    "2": "Annette Roulet",
                                    "3": "Sales Manager",
                                    "4": "1 rue Alsace-Lorraine",
                                    "5": "Toulouse",
                                    "6": "NULL",
                                    "7": "31000",
                                    "8": "France",
                                    "9": "61.77.61.10",
                                    "10": "61.77.61.11"
                                },
                                {
                                    "0": "LAUGB",
                                    "1": "Laughing Bacchus Wine Cellars",
                                    "2": "Yoshi Tannamuri",
                                    "3": "Marketing Assistant",
                                    "4": "1900 Oak St.",
                                    "5": "Vancouver",
                                    "6": "BC",
                                    "7": "V3F 2K1",
                                    "8": "Canada",
                                    "9": "(604) 555-3392",
                                    "10": "(604) 555-7293"
                                },
                                {
                                    "0": "LAZYK",
                                    "1": "Lazy K Kountry Store",
                                    "2": "John Steel",
                                    "3": "Marketing Manager",
                                    "4": "12 Orchestra Terrace",
                                    "5": "Walla Walla",
                                    "6": "WA",
                                    "7": "99362",
                                    "8": "USA",
                                    "9": "(509) 555-7969",
                                    "10": "(509) 555-6221"
                                },
                                {
                                    "0": "LEHMS",
                                    "1": "Lehmanns Marktstand",
                                    "2": "Renate Messner",
                                    "3": "Sales Representative",
                                    "4": "Magazinweg 7",
                                    "5": "Frankfurt a.M.",
                                    "6": "NULL",
                                    "7": "60528",
                                    "8": "Germany",
                                    "9": "069-0245984",
                                    "10": "069-0245874"
                                },
                                {
                                    "0": "LETSS",
                                    "1": "Let's Stop N Shop",
                                    "2": "Jaime Yorres",
                                    "3": "Owner",
                                    "4": "87 Polk St. Suite 5",
                                    "5": "San Francisco",
                                    "6": "CA",
                                    "7": "94117",
                                    "8": "USA",
                                    "9": "(415) 555-5938",
                                    "10": "NULL"
                                },
                                {
                                    "0": "LILAS",
                                    "1": "LILA-Supermercado",
                                    "2": "Carlos González",
                                    "3": "Accounting Manager",
                                    "4": "Carrera 52 con Ave. Bolívar #65-98 Llano Largo",
                                    "5": "Barquisimeto",
                                    "6": "Lara",
                                    "7": "3508",
                                    "8": "Venezuela",
                                    "9": "(9) 331-6954",
                                    "10": "(9) 331-7256"
                                },
                                {
                                    "0": "LINOD",
                                    "1": "LINO-Delicateses",
                                    "2": "Felipe Izquierdo",
                                    "3": "Owner",
                                    "4": "Ave. 5 de Mayo Porlamar",
                                    "5": "I. de Margarita",
                                    "6": "Nueva Esparta",
                                    "7": "4980",
                                    "8": "Venezuela",
                                    "9": "(8) 34-56-12",
                                    "10": "(8) 34-93-93"
                                },
                                {
                                    "0": "LONEP",
                                    "1": "Lonesome Pine Restaurant",
                                    "2": "Fran Wilson",
                                    "3": "Sales Manager",
                                    "4": "89 Chiaroscuro Rd.",
                                    "5": "Portland",
                                    "6": "OR",
                                    "7": "97219",
                                    "8": "USA",
                                    "9": "(503) 555-9573",
                                    "10": "(503) 555-9646"
                                },
                                {
                                    "0": "MAGAA",
                                    "1": "Magazzini Alimentari Riuniti",
                                    "2": "Giovanni Rovelli",
                                    "3": "Marketing Manager",
                                    "4": "Via Ludovico il Moro 22",
                                    "5": "Bergamo",
                                    "6": "NULL",
                                    "7": "24100",
                                    "8": "Italy",
                                    "9": "035-640230",
                                    "10": "035-640231"
                                },
                                {
                                    "0": "MAISD",
                                    "1": "Maison Dewey",
                                    "2": "Catherine Dewey",
                                    "3": "Sales Agent",
                                    "4": "Rue Joseph-Bens 532",
                                    "5": "Bruxelles",
                                    "6": "NULL",
                                    "7": "B-1180",
                                    "8": "Belgium",
                                    "9": "(02) 201 24 67",
                                    "10": "(02) 201 24 68"
                                },
                                {
                                    "0": "MEREP",
                                    "1": "Mère Paillarde",
                                    "2": "Jean Fresnière",
                                    "3": "Marketing Assistant",
                                    "4": "43 rue St. Laurent",
                                    "5": "Montréal",
                                    "6": "Québec",
                                    "7": "H1J 1C3",
                                    "8": "Canada",
                                    "9": "(514) 555-8054",
                                    "10": "(514) 555-8055"
                                },
                                {
                                    "0": "MORGK",
                                    "1": "Morgenstern Gesundkost",
                                    "2": "Alexander Feuer",
                                    "3": "Marketing Assistant",
                                    "4": "Heerstr. 22",
                                    "5": "Leipzig",
                                    "6": "NULL",
                                    "7": "04179",
                                    "8": "Germany",
                                    "9": "0342-023176",
                                    "10": "NULL"
                                },
                                {
                                    "0": "NORTS",
                                    "1": "North/South",
                                    "2": "Simon Crowther",
                                    "3": "Sales Associate",
                                    "4": "South House 300 Queensbridge",
                                    "5": "London",
                                    "6": "NULL",
                                    "7": "SW7 1RZ",
                                    "8": "UK",
                                    "9": "(171) 555-7733",
                                    "10": "(171) 555-2530"
                                },
                                {
                                    "0": "OCEAN",
                                    "1": "Océano Atlántico Ltda.",
                                    "2": "Yvonne Moncada",
                                    "3": "Sales Agent",
                                    "4": "Ing. Gustavo Moncada 8585 Piso 20-A",
                                    "5": "Buenos Aires",
                                    "6": "NULL",
                                    "7": "1010",
                                    "8": "Argentina",
                                    "9": "(1) 135-5333",
                                    "10": "(1) 135-5535"
                                },
                                {
                                    "0": "OLDWO",
                                    "1": "Old World Delicatessen",
                                    "2": "Rene Phillips",
                                    "3": "Sales Representative",
                                    "4": "2743 Bering St.",
                                    "5": "Anchorage",
                                    "6": "AK",
                                    "7": "99508",
                                    "8": "USA",
                                    "9": "(907) 555-7584",
                                    "10": "(907) 555-2880"
                                },
                                {
                                    "0": "OTTIK",
                                    "1": "Ottilies Käseladen",
                                    "2": "Henriette Pfalzheim",
                                    "3": "Owner",
                                    "4": "Mehrheimerstr. 369",
                                    "5": "Köln",
                                    "6": "NULL",
                                    "7": "50739",
                                    "8": "Germany",
                                    "9": "0221-0644327",
                                    "10": "0221-0765721"
                                },
                                {
                                    "0": "PARIS",
                                    "1": "Paris spécialités",
                                    "2": "Marie Bertrand",
                                    "3": "Owner",
                                    "4": "265, boulevard Charonne",
                                    "5": "Paris",
                                    "6": "NULL",
                                    "7": "75012",
                                    "8": "France",
                                    "9": "(1) 42.34.22.66",
                                    "10": "(1) 42.34.22.77"
                                },
                                {
                                    "0": "PERIC",
                                    "1": "Pericles Comidas clásicas",
                                    "2": "Guillermo Fernández",
                                    "3": "Sales Representative",
                                    "4": "Calle Dr. Jorge Cash 321",
                                    "5": "México D.F.",
                                    "6": "NULL",
                                    "7": "05033",
                                    "8": "Mexico",
                                    "9": "(5) 552-3745",
                                    "10": "(5) 545-3745"
                                },
                                {
                                    "0": "PICCO",
                                    "1": "Piccolo und mehr",
                                    "2": "Georg Pipps",
                                    "3": "Sales Manager",
                                    "4": "Geislweg 14",
                                    "5": "Salzburg",
                                    "6": "NULL",
                                    "7": "5020",
                                    "8": "Austria",
                                    "9": "6562-9722",
                                    "10": "6562-9723"
                                },
                                {
                                    "0": "PRINI",
                                    "1": "Princesa Isabel Vinhos",
                                    "2": "Isabel de Castro",
                                    "3": "Sales Representative",
                                    "4": "Estrada da saúde n. 58",
                                    "5": "Lisboa",
                                    "6": "NULL",
                                    "7": "1756",
                                    "8": "Portugal",
                                    "9": "(1) 356-5634",
                                    "10": "NULL"
                                },
                                {
                                    "0": "QUEDE",
                                    "1": "Que Delícia",
                                    "2": "Bernardo Batista",
                                    "3": "Accounting Manager",
                                    "4": "Rua da Panificadora, 12",
                                    "5": "Rio de Janeiro",
                                    "6": "RJ",
                                    "7": "02389-673",
                                    "8": "Brazil",
                                    "9": "(21) 555-4252",
                                    "10": "(21) 555-4545"
                                },
                                {
                                    "0": "QUEEN",
                                    "1": "Queen Cozinha",
                                    "2": "Lúcia Carvalho",
                                    "3": "Marketing Assistant",
                                    "4": "Alameda dos Canàrios, 891",
                                    "5": "Sao Paulo",
                                    "6": "SP",
                                    "7": "05487-020",
                                    "8": "Brazil",
                                    "9": "(11) 555-1189",
                                    "10": "NULL"
                                },
                                {
                                    "0": "QUICK",
                                    "1": "QUICK-Stop",
                                    "2": "Horst Kloss",
                                    "3": "Accounting Manager",
                                    "4": "Taucherstraße 10",
                                    "5": "Cunewalde",
                                    "6": "NULL",
                                    "7": "01307",
                                    "8": "Germany",
                                    "9": "0372-035188",
                                    "10": "NULL"
                                },
                                {
                                    "0": "RANCH",
                                    "1": "Rancho grande",
                                    "2": "Sergio Gutiérrez",
                                    "3": "Sales Representative",
                                    "4": "Av. del Libertador 900",
                                    "5": "Buenos Aires",
                                    "6": "NULL",
                                    "7": "1010",
                                    "8": "Argentina",
                                    "9": "(1) 123-5555",
                                    "10": "(1) 123-5556"
                                },
                                {
                                    "0": "RATTC",
                                    "1": "Rattlesnake Canyon Grocery",
                                    "2": "Paula Wilson",
                                    "3": "Assistant Sales Representative",
                                    "4": "2817 Milton Dr.",
                                    "5": "Albuquerque",
                                    "6": "NM",
                                    "7": "87110",
                                    "8": "USA",
                                    "9": "(505) 555-5939",
                                    "10": "(505) 555-3620"
                                },
                                {
                                    "0": "REGGC",
                                    "1": "Reggiani Caseifici",
                                    "2": "Maurizio Moroni",
                                    "3": "Sales Associate",
                                    "4": "Strada Provinciale 124",
                                    "5": "Reggio Emilia",
                                    "6": "NULL",
                                    "7": "42100",
                                    "8": "Italy",
                                    "9": "0522-556721",
                                    "10": "0522-556722"
                                },
                                {
                                    "0": "RICAR",
                                    "1": "Ricardo Adocicados",
                                    "2": "Janete Limeira",
                                    "3": "Assistant Sales Agent",
                                    "4": "Av. Copacabana, 267",
                                    "5": "Rio de Janeiro",
                                    "6": "RJ",
                                    "7": "02389-890",
                                    "8": "Brazil",
                                    "9": "(21) 555-3412",
                                    "10": "NULL"
                                },
                                {
                                    "0": "RICSU",
                                    "1": "Richter Supermarkt",
                                    "2": "Michael Holz",
                                    "3": "Sales Manager",
                                    "4": "Grenzacherweg 237",
                                    "5": "Genève",
                                    "6": "NULL",
                                    "7": "1203",
                                    "8": "Switzerland",
                                    "9": "0897-034214",
                                    "10": "NULL"
                                },
                                {
                                    "0": "ROMEY",
                                    "1": "Romero y tomillo",
                                    "2": "Alejandra Camino",
                                    "3": "Accounting Manager",
                                    "4": "Gran Vía, 1",
                                    "5": "Madrid",
                                    "6": "NULL",
                                    "7": "28001",
                                    "8": "Spain",
                                    "9": "(91) 745 6200",
                                    "10": "(91) 745 6210"
                                },
                                {
                                    "0": "SANTG",
                                    "1": "Santé Gourmet",
                                    "2": "Jonas Bergulfsen",
                                    "3": "Owner",
                                    "4": "Erling Skakkes gate 78",
                                    "5": "Stavern",
                                    "6": "NULL",
                                    "7": "4110",
                                    "8": "Norway",
                                    "9": "07-98 92 35",
                                    "10": "07-98 92 47"
                                },
                                {
                                    "0": "SAVEA",
                                    "1": "Save-a-lot Markets",
                                    "2": "Jose Pavarotti",
                                    "3": "Sales Representative",
                                    "4": "187 Suffolk Ln.",
                                    "5": "Boise",
                                    "6": "ID",
                                    "7": "83720",
                                    "8": "USA",
                                    "9": "(208) 555-8097",
                                    "10": "NULL"
                                },
                                {
                                    "0": "SEVES",
                                    "1": "Seven Seas Imports",
                                    "2": "Hari Kumar",
                                    "3": "Sales Manager",
                                    "4": "90 Wadhurst Rd.",
                                    "5": "London",
                                    "6": "NULL",
                                    "7": "OX15 4NB",
                                    "8": "UK",
                                    "9": "(171) 555-1717",
                                    "10": "(171) 555-5646"
                                },
                                {
                                    "0": "SIMOB",
                                    "1": "Simons bistro",
                                    "2": "Jytte Petersen",
                                    "3": "Owner",
                                    "4": "Vinbæltet 34",
                                    "5": "Kobenhavn",
                                    "6": "NULL",
                                    "7": "1734",
                                    "8": "Denmark",
                                    "9": "31 12 34 56",
                                    "10": "31 13 35 57"
                                },
                                {
                                    "0": "SPECD",
                                    "1": "Spécialités du monde",
                                    "2": "Dominique Perrier",
                                    "3": "Marketing Manager",
                                    "4": "25, rue Lauriston",
                                    "5": "Paris",
                                    "6": "NULL",
                                    "7": "75016",
                                    "8": "France",
                                    "9": "(1) 47.55.60.10",
                                    "10": "(1) 47.55.60.20"
                                },
                                {
                                    "0": "SPLIR",
                                    "1": "Split Rail Beer & Ale",
                                    "2": "Art Braunschweiger",
                                    "3": "Sales Manager",
                                    "4": "P.O. Box 555",
                                    "5": "Lander",
                                    "6": "WY",
                                    "7": "82520",
                                    "8": "USA",
                                    "9": "(307) 555-4680",
                                    "10": "(307) 555-6525"
                                },
                                {
                                    "0": "SUPRD",
                                    "1": "Suprêmes délices",
                                    "2": "Pascale Cartrain",
                                    "3": "Accounting Manager",
                                    "4": "Boulevard Tirou, 255",
                                    "5": "Charleroi",
                                    "6": "NULL",
                                    "7": "B-6000",
                                    "8": "Belgium",
                                    "9": "(071) 23 67 22 20",
                                    "10": "(071) 23 67 22 21"
                                },
                                {
                                    "0": "THEBI",
                                    "1": "The Big Cheese",
                                    "2": "Liz Nixon",
                                    "3": "Marketing Manager",
                                    "4": "89 Jefferson Way Suite 2",
                                    "5": "Portland",
                                    "6": "OR",
                                    "7": "97201",
                                    "8": "USA",
                                    "9": "(503) 555-3612",
                                    "10": "NULL"
                                },
                                {
                                    "0": "THECR",
                                    "1": "The Cracker Box",
                                    "2": "Liu Wong",
                                    "3": "Marketing Assistant",
                                    "4": "55 Grizzly Peak Rd.",
                                    "5": "Butte",
                                    "6": "MT",
                                    "7": "59801",
                                    "8": "USA",
                                    "9": "(406) 555-5834",
                                    "10": "(406) 555-8083"
                                },
                                {
                                    "0": "TOMSP",
                                    "1": "Toms Spezialitäten",
                                    "2": "Karin Josephs",
                                    "3": "Marketing Manager",
                                    "4": "Luisenstr. 48",
                                    "5": "Münster",
                                    "6": "NULL",
                                    "7": "44087",
                                    "8": "Germany",
                                    "9": "0251-031259",
                                    "10": "0251-035695"
                                },
                                {
                                    "0": "TORTU",
                                    "1": "Tortuga Restaurante",
                                    "2": "Miguel Angel Paolino",
                                    "3": "Owner",
                                    "4": "Avda. Azteca 123",
                                    "5": "México D.F.",
                                    "6": "NULL",
                                    "7": "05033",
                                    "8": "Mexico",
                                    "9": "(5) 555-2933",
                                    "10": "NULL"
                                },
                                {
                                    "0": "TRADH",
                                    "1": "Tradição Hipermercados",
                                    "2": "Anabela Domingues",
                                    "3": "Sales Representative",
                                    "4": "Av. Inês de Castro, 414",
                                    "5": "Sao Paulo",
                                    "6": "SP",
                                    "7": "05634-030",
                                    "8": "Brazil",
                                    "9": "(11) 555-2167",
                                    "10": "(11) 555-2168"
                                },
                                {
                                    "0": "TRAIH",
                                    "1": "Trail's Head Gourmet Provisioners",
                                    "2": "Helvetius Nagy",
                                    "3": "Sales Associate",
                                    "4": "722 DaVinci Blvd.",
                                    "5": "Kirkland",
                                    "6": "WA",
                                    "7": "98034",
                                    "8": "USA",
                                    "9": "(206) 555-8257",
                                    "10": "(206) 555-2174"
                                },
                                {
                                    "0": "VAFFE",
                                    "1": "Vaffeljernet",
                                    "2": "Palle Ibsen",
                                    "3": "Sales Manager",
                                    "4": "Smagsloget 45",
                                    "5": "Århus",
                                    "6": "NULL",
                                    "7": "8200",
                                    "8": "Denmark",
                                    "9": "86 21 32 43",
                                    "10": "86 22 33 44"
                                },
                                {
                                    "0": "VICTE",
                                    "1": "Victuailles en stock",
                                    "2": "Mary Saveley",
                                    "3": "Sales Agent",
                                    "4": "2, rue du Commerce",
                                    "5": "Lyon",
                                    "6": "NULL",
                                    "7": "69004",
                                    "8": "France",
                                    "9": "78.32.54.86",
                                    "10": "78.32.54.87"
                                },
                                {
                                    "0": "VINET",
                                    "1": "Vins et alcools Chevalier",
                                    "2": "Paul Henriot",
                                    "3": "Accounting Manager",
                                    "4": "59 rue de l'Abbaye",
                                    "5": "Reims",
                                    "6": "NULL",
                                    "7": "51100",
                                    "8": "France",
                                    "9": "26.47.15.10",
                                    "10": "26.47.15.11"
                                },
                                {
                                    "0": "WANDK",
                                    "1": "Die Wandernde Kuh",
                                    "2": "Rita Müller",
                                    "3": "Sales Representative",
                                    "4": "Adenauerallee 900",
                                    "5": "Stuttgart",
                                    "6": "NULL",
                                    "7": "70563",
                                    "8": "Germany",
                                    "9": "0711-020361",
                                    "10": "0711-035428"
                                },
                                {
                                    "0": "WARTH",
                                    "1": "Wartian Herkku",
                                    "2": "Pirkko Koskitalo",
                                    "3": "Accounting Manager",
                                    "4": "Torikatu 38",
                                    "5": "Oulu",
                                    "6": "NULL",
                                    "7": "90110",
                                    "8": "Finland",
                                    "9": "981-443655",
                                    "10": "981-443655"
                                },
                                {
                                    "0": "WELLI",
                                    "1": "Wellington Importadora",
                                    "2": "Paula Parente",
                                    "3": "Sales Manager",
                                    "4": "Rua do Mercado, 12",
                                    "5": "Resende",
                                    "6": "SP",
                                    "7": "08737-363",
                                    "8": "Brazil",
                                    "9": "(14) 555-8122",
                                    "10": "NULL"
                                },
                                {
                                    "0": "WHITC",
                                    "1": "White Clover Markets",
                                    "2": "Karl Jablonski",
                                    "3": "Owner",
                                    "4": "305 - 14th Ave. S. Suite 3B",
                                    "5": "Seattle",
                                    "6": "WA",
                                    "7": "98128",
                                    "8": "USA",
                                    "9": "(206) 555-4112",
                                    "10": "(206) 555-4115"
                                },
                                {
                                    "0": "WILMK",
                                    "1": "Wilman Kala",
                                    "2": "Matti Karttunen",
                                    "3": "Owner/Marketing Assistant",
                                    "4": "Keskuskatu 45",
                                    "5": "Helsinki",
                                    "6": "NULL",
                                    "7": "21240",
                                    "8": "Finland",
                                    "9": "90-224 8858",
                                    "10": "90-224 8858"
                                },
                                {
                                    "0": "WOLZA",
                                    "1": "Wolski  Zajazd",
                                    "2": "Zbyszek Piestrzeniewicz",
                                    "3": "Owner",
                                    "4": "ul. Filtrowa 68",
                                    "5": "Warszawa",
                                    "6": "NULL",
                                    "7": "01-012",
                                    "8": "Poland",
                                    "9": "(26) 642-7012",
                                    "10": "(26) 642-7012"
                                }
                            ]
                        },
                        "text/html": [
                            "<table>",
                            "<tr><th>CustomerID</th><th>CompanyName</th><th>ContactName</th><th>ContactTitle</th><th>Address</th><th>City</th><th>Region</th><th>PostalCode</th><th>Country</th><th>Phone</th><th>Fax</th></tr>",
                            "<tr><td>ALFKI</td><td>Alfreds Futterkiste</td><td>Maria Anders</td><td>Sales Representative</td><td>Obere Str. 57</td><td>Berlin</td><td>NULL</td><td>12209</td><td>Germany</td><td>030-0074321</td><td>030-0076545</td></tr>",
                            "<tr><td>ANATR</td><td>Ana Trujillo Emparedados y helados</td><td>Ana Trujillo</td><td>Owner</td><td>Avda. de la Constitución 2222</td><td>México D.F.</td><td>NULL</td><td>05021</td><td>Mexico</td><td>(5) 555-4729</td><td>(5) 555-3745</td></tr>",
                            "<tr><td>ANTON</td><td>Antonio Moreno Taquería</td><td>Antonio Moreno</td><td>Owner</td><td>Mataderos  2312</td><td>México D.F.</td><td>NULL</td><td>05023</td><td>Mexico</td><td>(5) 555-3932</td><td>NULL</td></tr>",
                            "<tr><td>AROUT</td><td>Around the Horn</td><td>Thomas Hardy</td><td>Sales Representative</td><td>120 Hanover Sq.</td><td>London</td><td>NULL</td><td>WA1 1DP</td><td>UK</td><td>(171) 555-7788</td><td>(171) 555-6750</td></tr>",
                            "<tr><td>BERGS</td><td>Berglunds snabbköp</td><td>Christina Berglund</td><td>Order Administrator</td><td>Berguvsvägen  8</td><td>Luleå</td><td>NULL</td><td>S-958 22</td><td>Sweden</td><td>0921-12 34 65</td><td>0921-12 34 67</td></tr>",
                            "<tr><td>BLAUS</td><td>Blauer See Delikatessen</td><td>Hanna Moos</td><td>Sales Representative</td><td>Forsterstr. 57</td><td>Mannheim</td><td>NULL</td><td>68306</td><td>Germany</td><td>0621-08460</td><td>0621-08924</td></tr>",
                            "<tr><td>BLONP</td><td>Blondesddsl père et fils</td><td>Frédérique Citeaux</td><td>Marketing Manager</td><td>24, place Kléber</td><td>Strasbourg</td><td>NULL</td><td>67000</td><td>France</td><td>88.60.15.31</td><td>88.60.15.32</td></tr>",
                            "<tr><td>BOLID</td><td>Bólido Comidas preparadas</td><td>Martín Sommer</td><td>Owner</td><td>C/ Araquil, 67</td><td>Madrid</td><td>NULL</td><td>28023</td><td>Spain</td><td>(91) 555 22 82</td><td>(91) 555 91 99</td></tr>",
                            "<tr><td>BONAP</td><td>Bon app'</td><td>Laurence Lebihan</td><td>Owner</td><td>12, rue des Bouchers</td><td>Marseille</td><td>NULL</td><td>13008</td><td>France</td><td>91.24.45.40</td><td>91.24.45.41</td></tr>",
                            "<tr><td>BOTTM</td><td>Bottom-Dollar Markets</td><td>Elizabeth Lincoln</td><td>Accounting Manager</td><td>23 Tsawassen Blvd.</td><td>Tsawassen</td><td>BC</td><td>T2F 8M4</td><td>Canada</td><td>(604) 555-4729</td><td>(604) 555-3745</td></tr>",
                            "<tr><td>BSBEV</td><td>B's Beverages</td><td>Victoria Ashworth</td><td>Sales Representative</td><td>Fauntleroy Circus</td><td>London</td><td>NULL</td><td>EC2 5NT</td><td>UK</td><td>(171) 555-1212</td><td>NULL</td></tr>",
                            "<tr><td>CACTU</td><td>Cactus Comidas para llevar</td><td>Patricio Simpson</td><td>Sales Agent</td><td>Cerrito 333</td><td>Buenos Aires</td><td>NULL</td><td>1010</td><td>Argentina</td><td>(1) 135-5555</td><td>(1) 135-4892</td></tr>",
                            "<tr><td>CENTC</td><td>Centro comercial Moctezuma</td><td>Francisco Chang</td><td>Marketing Manager</td><td>Sierras de Granada 9993</td><td>México D.F.</td><td>NULL</td><td>05022</td><td>Mexico</td><td>(5) 555-3392</td><td>(5) 555-7293</td></tr>",
                            "<tr><td>CHOPS</td><td>Chop-suey Chinese</td><td>Yang Wang</td><td>Owner</td><td>Hauptstr. 29</td><td>Bern</td><td>NULL</td><td>3012</td><td>Switzerland</td><td>0452-076545</td><td>NULL</td></tr>",
                            "<tr><td>COMMI</td><td>Comércio Mineiro</td><td>Pedro Afonso</td><td>Sales Associate</td><td>Av. dos Lusíadas, 23</td><td>Sao Paulo</td><td>SP</td><td>05432-043</td><td>Brazil</td><td>(11) 555-7647</td><td>NULL</td></tr>",
                            "<tr><td>CONSH</td><td>Consolidated Holdings</td><td>Elizabeth Brown</td><td>Sales Representative</td><td>Berkeley Gardens 12  Brewery</td><td>London</td><td>NULL</td><td>WX1 6LT</td><td>UK</td><td>(171) 555-2282</td><td>(171) 555-9199</td></tr>",
                            "<tr><td>DRACD</td><td>Drachenblut Delikatessen</td><td>Sven Ottlieb</td><td>Order Administrator</td><td>Walserweg 21</td><td>Aachen</td><td>NULL</td><td>52066</td><td>Germany</td><td>0241-039123</td><td>0241-059428</td></tr>",
                            "<tr><td>DUMON</td><td>Du monde entier</td><td>Janine Labrune</td><td>Owner</td><td>67, rue des Cinquante Otages</td><td>Nantes</td><td>NULL</td><td>44000</td><td>France</td><td>40.67.88.88</td><td>40.67.89.89</td></tr>",
                            "<tr><td>EASTC</td><td>Eastern Connection</td><td>Ann Devon</td><td>Sales Agent</td><td>35 King George</td><td>London</td><td>NULL</td><td>WX3 6FW</td><td>UK</td><td>(171) 555-0297</td><td>(171) 555-3373</td></tr>",
                            "<tr><td>ERNSH</td><td>Ernst Handel</td><td>Roland Mendel</td><td>Sales Manager</td><td>Kirchgasse 6</td><td>Graz</td><td>NULL</td><td>8010</td><td>Austria</td><td>7675-3425</td><td>7675-3426</td></tr>",
                            "<tr><td>FAMIA</td><td>Familia Arquibaldo</td><td>Aria Cruz</td><td>Marketing Assistant</td><td>Rua Orós, 92</td><td>Sao Paulo</td><td>SP</td><td>05442-030</td><td>Brazil</td><td>(11) 555-9857</td><td>NULL</td></tr>",
                            "<tr><td>FISSA</td><td>FISSA Fabrica Inter. Salchichas S.A.</td><td>Diego Roel</td><td>Accounting Manager</td><td>C/ Moralzarzal, 86</td><td>Madrid</td><td>NULL</td><td>28034</td><td>Spain</td><td>(91) 555 94 44</td><td>(91) 555 55 93</td></tr>",
                            "<tr><td>FOLIG</td><td>Folies gourmandes</td><td>Martine Rancé</td><td>Assistant Sales Agent</td><td>184, chaussée de Tournai</td><td>Lille</td><td>NULL</td><td>59000</td><td>France</td><td>20.16.10.16</td><td>20.16.10.17</td></tr>",
                            "<tr><td>FOLKO</td><td>Folk och fä HB</td><td>Maria Larsson</td><td>Owner</td><td>Åkergatan 24</td><td>Bräcke</td><td>NULL</td><td>S-844 67</td><td>Sweden</td><td>0695-34 67 21</td><td>NULL</td></tr>",
                            "<tr><td>FRANK</td><td>Frankenversand</td><td>Peter Franken</td><td>Marketing Manager</td><td>Berliner Platz 43</td><td>München</td><td>NULL</td><td>80805</td><td>Germany</td><td>089-0877310</td><td>089-0877451</td></tr>",
                            "<tr><td>FRANR</td><td>France restauration</td><td>Carine Schmitt</td><td>Marketing Manager</td><td>54, rue Royale</td><td>Nantes</td><td>NULL</td><td>44000</td><td>France</td><td>40.32.21.21</td><td>40.32.21.20</td></tr>",
                            "<tr><td>FRANS</td><td>Franchi S.p.A.</td><td>Paolo Accorti</td><td>Sales Representative</td><td>Via Monte Bianco 34</td><td>Torino</td><td>NULL</td><td>10100</td><td>Italy</td><td>011-4988260</td><td>011-4988261</td></tr>",
                            "<tr><td>FURIB</td><td>Furia Bacalhau e Frutos do Mar</td><td>Lino Rodriguez</td><td>Sales Manager</td><td>Jardim das rosas n. 32</td><td>Lisboa</td><td>NULL</td><td>1675</td><td>Portugal</td><td>(1) 354-2534</td><td>(1) 354-2535</td></tr>",
                            "<tr><td>GALED</td><td>Galería del gastrónomo</td><td>Eduardo Saavedra</td><td>Marketing Manager</td><td>Rambla de Cataluña, 23</td><td>Barcelona</td><td>NULL</td><td>08022</td><td>Spain</td><td>(93) 203 4560</td><td>(93) 203 4561</td></tr>",
                            "<tr><td>GODOS</td><td>Godos Cocina Típica</td><td>José Pedro Freyre</td><td>Sales Manager</td><td>C/ Romero, 33</td><td>Sevilla</td><td>NULL</td><td>41101</td><td>Spain</td><td>(95) 555 82 82</td><td>NULL</td></tr>",
                            "<tr><td>GOURL</td><td>Gourmet Lanchonetes</td><td>André Fonseca</td><td>Sales Associate</td><td>Av. Brasil, 442</td><td>Campinas</td><td>SP</td><td>04876-786</td><td>Brazil</td><td>(11) 555-9482</td><td>NULL</td></tr>",
                            "<tr><td>GREAL</td><td>Great Lakes Food Market</td><td>Howard Snyder</td><td>Marketing Manager</td><td>2732 Baker Blvd.</td><td>Eugene</td><td>OR</td><td>97403</td><td>USA</td><td>(503) 555-7555</td><td>NULL</td></tr>",
                            "<tr><td>GROSR</td><td>GROSELLA-Restaurante</td><td>Manuel Pereira</td><td>Owner</td><td>5ª Ave. Los Palos Grandes</td><td>Caracas</td><td>DF</td><td>1081</td><td>Venezuela</td><td>(2) 283-2951</td><td>(2) 283-3397</td></tr>",
                            "<tr><td>HANAR</td><td>Hanari Carnes</td><td>Mario Pontes</td><td>Accounting Manager</td><td>Rua do Paço, 67</td><td>Rio de Janeiro</td><td>RJ</td><td>05454-876</td><td>Brazil</td><td>(21) 555-0091</td><td>(21) 555-8765</td></tr>",
                            "<tr><td>HILAA</td><td>HILARION-Abastos</td><td>Carlos Hernández</td><td>Sales Representative</td><td>Carrera 22 con Ave. Carlos Soublette #8-35</td><td>San Cristóbal</td><td>Táchira</td><td>5022</td><td>Venezuela</td><td>(5) 555-1340</td><td>(5) 555-1948</td></tr>",
                            "<tr><td>HUNGC</td><td>Hungry Coyote Import Store</td><td>Yoshi Latimer</td><td>Sales Representative</td><td>City Center Plaza 516 Main St.</td><td>Elgin</td><td>OR</td><td>97827</td><td>USA</td><td>(503) 555-6874</td><td>(503) 555-2376</td></tr>",
                            "<tr><td>HUNGO</td><td>Hungry Owl All-Night Grocers</td><td>Patricia McKenna</td><td>Sales Associate</td><td>8 Johnstown Road</td><td>Cork</td><td>Co. Cork</td><td>NULL</td><td>Ireland</td><td>2967 542</td><td>2967 3333</td></tr>",
                            "<tr><td>ISLAT</td><td>Island Trading</td><td>Helen Bennett</td><td>Marketing Manager</td><td>Garden House Crowther Way</td><td>Cowes</td><td>Isle of Wight</td><td>PO31 7PJ</td><td>UK</td><td>(198) 555-8888</td><td>NULL</td></tr>",
                            "<tr><td>KOENE</td><td>Königlich Essen</td><td>Philip Cramer</td><td>Sales Associate</td><td>Maubelstr. 90</td><td>Brandenburg</td><td>NULL</td><td>14776</td><td>Germany</td><td>0555-09876</td><td>NULL</td></tr>",
                            "<tr><td>LACOR</td><td>La corne d'abondance</td><td>Daniel Tonini</td><td>Sales Representative</td><td>67, avenue de l'Europe</td><td>Versailles</td><td>NULL</td><td>78000</td><td>France</td><td>30.59.84.10</td><td>30.59.85.11</td></tr>",
                            "<tr><td>LAMAI</td><td>La maison d'Asie</td><td>Annette Roulet</td><td>Sales Manager</td><td>1 rue Alsace-Lorraine</td><td>Toulouse</td><td>NULL</td><td>31000</td><td>France</td><td>61.77.61.10</td><td>61.77.61.11</td></tr>",
                            "<tr><td>LAUGB</td><td>Laughing Bacchus Wine Cellars</td><td>Yoshi Tannamuri</td><td>Marketing Assistant</td><td>1900 Oak St.</td><td>Vancouver</td><td>BC</td><td>V3F 2K1</td><td>Canada</td><td>(604) 555-3392</td><td>(604) 555-7293</td></tr>",
                            "<tr><td>LAZYK</td><td>Lazy K Kountry Store</td><td>John Steel</td><td>Marketing Manager</td><td>12 Orchestra Terrace</td><td>Walla Walla</td><td>WA</td><td>99362</td><td>USA</td><td>(509) 555-7969</td><td>(509) 555-6221</td></tr>",
                            "<tr><td>LEHMS</td><td>Lehmanns Marktstand</td><td>Renate Messner</td><td>Sales Representative</td><td>Magazinweg 7</td><td>Frankfurt a.M.</td><td>NULL</td><td>60528</td><td>Germany</td><td>069-0245984</td><td>069-0245874</td></tr>",
                            "<tr><td>LETSS</td><td>Let's Stop N Shop</td><td>Jaime Yorres</td><td>Owner</td><td>87 Polk St. Suite 5</td><td>San Francisco</td><td>CA</td><td>94117</td><td>USA</td><td>(415) 555-5938</td><td>NULL</td></tr>",
                            "<tr><td>LILAS</td><td>LILA-Supermercado</td><td>Carlos González</td><td>Accounting Manager</td><td>Carrera 52 con Ave. Bolívar #65-98 Llano Largo</td><td>Barquisimeto</td><td>Lara</td><td>3508</td><td>Venezuela</td><td>(9) 331-6954</td><td>(9) 331-7256</td></tr>",
                            "<tr><td>LINOD</td><td>LINO-Delicateses</td><td>Felipe Izquierdo</td><td>Owner</td><td>Ave. 5 de Mayo Porlamar</td><td>I. de Margarita</td><td>Nueva Esparta</td><td>4980</td><td>Venezuela</td><td>(8) 34-56-12</td><td>(8) 34-93-93</td></tr>",
                            "<tr><td>LONEP</td><td>Lonesome Pine Restaurant</td><td>Fran Wilson</td><td>Sales Manager</td><td>89 Chiaroscuro Rd.</td><td>Portland</td><td>OR</td><td>97219</td><td>USA</td><td>(503) 555-9573</td><td>(503) 555-9646</td></tr>",
                            "<tr><td>MAGAA</td><td>Magazzini Alimentari Riuniti</td><td>Giovanni Rovelli</td><td>Marketing Manager</td><td>Via Ludovico il Moro 22</td><td>Bergamo</td><td>NULL</td><td>24100</td><td>Italy</td><td>035-640230</td><td>035-640231</td></tr>",
                            "<tr><td>MAISD</td><td>Maison Dewey</td><td>Catherine Dewey</td><td>Sales Agent</td><td>Rue Joseph-Bens 532</td><td>Bruxelles</td><td>NULL</td><td>B-1180</td><td>Belgium</td><td>(02) 201 24 67</td><td>(02) 201 24 68</td></tr>",
                            "<tr><td>MEREP</td><td>Mère Paillarde</td><td>Jean Fresnière</td><td>Marketing Assistant</td><td>43 rue St. Laurent</td><td>Montréal</td><td>Québec</td><td>H1J 1C3</td><td>Canada</td><td>(514) 555-8054</td><td>(514) 555-8055</td></tr>",
                            "<tr><td>MORGK</td><td>Morgenstern Gesundkost</td><td>Alexander Feuer</td><td>Marketing Assistant</td><td>Heerstr. 22</td><td>Leipzig</td><td>NULL</td><td>04179</td><td>Germany</td><td>0342-023176</td><td>NULL</td></tr>",
                            "<tr><td>NORTS</td><td>North/South</td><td>Simon Crowther</td><td>Sales Associate</td><td>South House 300 Queensbridge</td><td>London</td><td>NULL</td><td>SW7 1RZ</td><td>UK</td><td>(171) 555-7733</td><td>(171) 555-2530</td></tr>",
                            "<tr><td>OCEAN</td><td>Océano Atlántico Ltda.</td><td>Yvonne Moncada</td><td>Sales Agent</td><td>Ing. Gustavo Moncada 8585 Piso 20-A</td><td>Buenos Aires</td><td>NULL</td><td>1010</td><td>Argentina</td><td>(1) 135-5333</td><td>(1) 135-5535</td></tr>",
                            "<tr><td>OLDWO</td><td>Old World Delicatessen</td><td>Rene Phillips</td><td>Sales Representative</td><td>2743 Bering St.</td><td>Anchorage</td><td>AK</td><td>99508</td><td>USA</td><td>(907) 555-7584</td><td>(907) 555-2880</td></tr>",
                            "<tr><td>OTTIK</td><td>Ottilies Käseladen</td><td>Henriette Pfalzheim</td><td>Owner</td><td>Mehrheimerstr. 369</td><td>Köln</td><td>NULL</td><td>50739</td><td>Germany</td><td>0221-0644327</td><td>0221-0765721</td></tr>",
                            "<tr><td>PARIS</td><td>Paris spécialités</td><td>Marie Bertrand</td><td>Owner</td><td>265, boulevard Charonne</td><td>Paris</td><td>NULL</td><td>75012</td><td>France</td><td>(1) 42.34.22.66</td><td>(1) 42.34.22.77</td></tr>",
                            "<tr><td>PERIC</td><td>Pericles Comidas clásicas</td><td>Guillermo Fernández</td><td>Sales Representative</td><td>Calle Dr. Jorge Cash 321</td><td>México D.F.</td><td>NULL</td><td>05033</td><td>Mexico</td><td>(5) 552-3745</td><td>(5) 545-3745</td></tr>",
                            "<tr><td>PICCO</td><td>Piccolo und mehr</td><td>Georg Pipps</td><td>Sales Manager</td><td>Geislweg 14</td><td>Salzburg</td><td>NULL</td><td>5020</td><td>Austria</td><td>6562-9722</td><td>6562-9723</td></tr>",
                            "<tr><td>PRINI</td><td>Princesa Isabel Vinhos</td><td>Isabel de Castro</td><td>Sales Representative</td><td>Estrada da saúde n. 58</td><td>Lisboa</td><td>NULL</td><td>1756</td><td>Portugal</td><td>(1) 356-5634</td><td>NULL</td></tr>",
                            "<tr><td>QUEDE</td><td>Que Delícia</td><td>Bernardo Batista</td><td>Accounting Manager</td><td>Rua da Panificadora, 12</td><td>Rio de Janeiro</td><td>RJ</td><td>02389-673</td><td>Brazil</td><td>(21) 555-4252</td><td>(21) 555-4545</td></tr>",
                            "<tr><td>QUEEN</td><td>Queen Cozinha</td><td>Lúcia Carvalho</td><td>Marketing Assistant</td><td>Alameda dos Canàrios, 891</td><td>Sao Paulo</td><td>SP</td><td>05487-020</td><td>Brazil</td><td>(11) 555-1189</td><td>NULL</td></tr>",
                            "<tr><td>QUICK</td><td>QUICK-Stop</td><td>Horst Kloss</td><td>Accounting Manager</td><td>Taucherstraße 10</td><td>Cunewalde</td><td>NULL</td><td>01307</td><td>Germany</td><td>0372-035188</td><td>NULL</td></tr>",
                            "<tr><td>RANCH</td><td>Rancho grande</td><td>Sergio Gutiérrez</td><td>Sales Representative</td><td>Av. del Libertador 900</td><td>Buenos Aires</td><td>NULL</td><td>1010</td><td>Argentina</td><td>(1) 123-5555</td><td>(1) 123-5556</td></tr>",
                            "<tr><td>RATTC</td><td>Rattlesnake Canyon Grocery</td><td>Paula Wilson</td><td>Assistant Sales Representative</td><td>2817 Milton Dr.</td><td>Albuquerque</td><td>NM</td><td>87110</td><td>USA</td><td>(505) 555-5939</td><td>(505) 555-3620</td></tr>",
                            "<tr><td>REGGC</td><td>Reggiani Caseifici</td><td>Maurizio Moroni</td><td>Sales Associate</td><td>Strada Provinciale 124</td><td>Reggio Emilia</td><td>NULL</td><td>42100</td><td>Italy</td><td>0522-556721</td><td>0522-556722</td></tr>",
                            "<tr><td>RICAR</td><td>Ricardo Adocicados</td><td>Janete Limeira</td><td>Assistant Sales Agent</td><td>Av. Copacabana, 267</td><td>Rio de Janeiro</td><td>RJ</td><td>02389-890</td><td>Brazil</td><td>(21) 555-3412</td><td>NULL</td></tr>",
                            "<tr><td>RICSU</td><td>Richter Supermarkt</td><td>Michael Holz</td><td>Sales Manager</td><td>Grenzacherweg 237</td><td>Genève</td><td>NULL</td><td>1203</td><td>Switzerland</td><td>0897-034214</td><td>NULL</td></tr>",
                            "<tr><td>ROMEY</td><td>Romero y tomillo</td><td>Alejandra Camino</td><td>Accounting Manager</td><td>Gran Vía, 1</td><td>Madrid</td><td>NULL</td><td>28001</td><td>Spain</td><td>(91) 745 6200</td><td>(91) 745 6210</td></tr>",
                            "<tr><td>SANTG</td><td>Santé Gourmet</td><td>Jonas Bergulfsen</td><td>Owner</td><td>Erling Skakkes gate 78</td><td>Stavern</td><td>NULL</td><td>4110</td><td>Norway</td><td>07-98 92 35</td><td>07-98 92 47</td></tr>",
                            "<tr><td>SAVEA</td><td>Save-a-lot Markets</td><td>Jose Pavarotti</td><td>Sales Representative</td><td>187 Suffolk Ln.</td><td>Boise</td><td>ID</td><td>83720</td><td>USA</td><td>(208) 555-8097</td><td>NULL</td></tr>",
                            "<tr><td>SEVES</td><td>Seven Seas Imports</td><td>Hari Kumar</td><td>Sales Manager</td><td>90 Wadhurst Rd.</td><td>London</td><td>NULL</td><td>OX15 4NB</td><td>UK</td><td>(171) 555-1717</td><td>(171) 555-5646</td></tr>",
                            "<tr><td>SIMOB</td><td>Simons bistro</td><td>Jytte Petersen</td><td>Owner</td><td>Vinbæltet 34</td><td>Kobenhavn</td><td>NULL</td><td>1734</td><td>Denmark</td><td>31 12 34 56</td><td>31 13 35 57</td></tr>",
                            "<tr><td>SPECD</td><td>Spécialités du monde</td><td>Dominique Perrier</td><td>Marketing Manager</td><td>25, rue Lauriston</td><td>Paris</td><td>NULL</td><td>75016</td><td>France</td><td>(1) 47.55.60.10</td><td>(1) 47.55.60.20</td></tr>",
                            "<tr><td>SPLIR</td><td>Split Rail Beer &amp; Ale</td><td>Art Braunschweiger</td><td>Sales Manager</td><td>P.O. Box 555</td><td>Lander</td><td>WY</td><td>82520</td><td>USA</td><td>(307) 555-4680</td><td>(307) 555-6525</td></tr>",
                            "<tr><td>SUPRD</td><td>Suprêmes délices</td><td>Pascale Cartrain</td><td>Accounting Manager</td><td>Boulevard Tirou, 255</td><td>Charleroi</td><td>NULL</td><td>B-6000</td><td>Belgium</td><td>(071) 23 67 22 20</td><td>(071) 23 67 22 21</td></tr>",
                            "<tr><td>THEBI</td><td>The Big Cheese</td><td>Liz Nixon</td><td>Marketing Manager</td><td>89 Jefferson Way Suite 2</td><td>Portland</td><td>OR</td><td>97201</td><td>USA</td><td>(503) 555-3612</td><td>NULL</td></tr>",
                            "<tr><td>THECR</td><td>The Cracker Box</td><td>Liu Wong</td><td>Marketing Assistant</td><td>55 Grizzly Peak Rd.</td><td>Butte</td><td>MT</td><td>59801</td><td>USA</td><td>(406) 555-5834</td><td>(406) 555-8083</td></tr>",
                            "<tr><td>TOMSP</td><td>Toms Spezialitäten</td><td>Karin Josephs</td><td>Marketing Manager</td><td>Luisenstr. 48</td><td>Münster</td><td>NULL</td><td>44087</td><td>Germany</td><td>0251-031259</td><td>0251-035695</td></tr>",
                            "<tr><td>TORTU</td><td>Tortuga Restaurante</td><td>Miguel Angel Paolino</td><td>Owner</td><td>Avda. Azteca 123</td><td>México D.F.</td><td>NULL</td><td>05033</td><td>Mexico</td><td>(5) 555-2933</td><td>NULL</td></tr>",
                            "<tr><td>TRADH</td><td>Tradição Hipermercados</td><td>Anabela Domingues</td><td>Sales Representative</td><td>Av. Inês de Castro, 414</td><td>Sao Paulo</td><td>SP</td><td>05634-030</td><td>Brazil</td><td>(11) 555-2167</td><td>(11) 555-2168</td></tr>",
                            "<tr><td>TRAIH</td><td>Trail's Head Gourmet Provisioners</td><td>Helvetius Nagy</td><td>Sales Associate</td><td>722 DaVinci Blvd.</td><td>Kirkland</td><td>WA</td><td>98034</td><td>USA</td><td>(206) 555-8257</td><td>(206) 555-2174</td></tr>",
                            "<tr><td>VAFFE</td><td>Vaffeljernet</td><td>Palle Ibsen</td><td>Sales Manager</td><td>Smagsloget 45</td><td>Århus</td><td>NULL</td><td>8200</td><td>Denmark</td><td>86 21 32 43</td><td>86 22 33 44</td></tr>",
                            "<tr><td>VICTE</td><td>Victuailles en stock</td><td>Mary Saveley</td><td>Sales Agent</td><td>2, rue du Commerce</td><td>Lyon</td><td>NULL</td><td>69004</td><td>France</td><td>78.32.54.86</td><td>78.32.54.87</td></tr>",
                            "<tr><td>VINET</td><td>Vins et alcools Chevalier</td><td>Paul Henriot</td><td>Accounting Manager</td><td>59 rue de l'Abbaye</td><td>Reims</td><td>NULL</td><td>51100</td><td>France</td><td>26.47.15.10</td><td>26.47.15.11</td></tr>",
                            "<tr><td>WANDK</td><td>Die Wandernde Kuh</td><td>Rita Müller</td><td>Sales Representative</td><td>Adenauerallee 900</td><td>Stuttgart</td><td>NULL</td><td>70563</td><td>Germany</td><td>0711-020361</td><td>0711-035428</td></tr>",
                            "<tr><td>WARTH</td><td>Wartian Herkku</td><td>Pirkko Koskitalo</td><td>Accounting Manager</td><td>Torikatu 38</td><td>Oulu</td><td>NULL</td><td>90110</td><td>Finland</td><td>981-443655</td><td>981-443655</td></tr>",
                            "<tr><td>WELLI</td><td>Wellington Importadora</td><td>Paula Parente</td><td>Sales Manager</td><td>Rua do Mercado, 12</td><td>Resende</td><td>SP</td><td>08737-363</td><td>Brazil</td><td>(14) 555-8122</td><td>NULL</td></tr>",
                            "<tr><td>WHITC</td><td>White Clover Markets</td><td>Karl Jablonski</td><td>Owner</td><td>305 - 14th Ave. S. Suite 3B</td><td>Seattle</td><td>WA</td><td>98128</td><td>USA</td><td>(206) 555-4112</td><td>(206) 555-4115</td></tr>",
                            "<tr><td>WILMK</td><td>Wilman Kala</td><td>Matti Karttunen</td><td>Owner/Marketing Assistant</td><td>Keskuskatu 45</td><td>Helsinki</td><td>NULL</td><td>21240</td><td>Finland</td><td>90-224 8858</td><td>90-224 8858</td></tr>",
                            "<tr><td>WOLZA</td><td>Wolski  Zajazd</td><td>Zbyszek Piestrzeniewicz</td><td>Owner</td><td>ul. Filtrowa 68</td><td>Warszawa</td><td>NULL</td><td>01-012</td><td>Poland</td><td>(26) 642-7012</td><td>(26) 642-7012</td></tr>",
                            "</table>"
                        ]
                    }
                },
                {
                    "output_type": "display_data",
                    "data": {
                        "text/html": "(6 rows affected)"
                    },
                    "metadata": {}
                },
                {
                    "output_type": "display_data",
                    "data": {
                        "text/html": "(77 rows affected)"
                    },
                    "metadata": {}
                },
                {
                    "output_type": "display_data",
                    "data": {
                        "text/html": "Total execution time: 00:00:00.132"
                    },
                    "metadata": {}
                },
                {
                    "output_type": "execute_result",
                    "metadata": {},
                    "execution_count": 3,
                    "data": {
                        "application/vnd.dataresource+json": {
                            "schema": {
                                "fields": [
                                    {
                                        "name": "CustomerID"
                                    },
                                    {
                                        "name": "ContactName"
                                    },
                                    {
                                        "name": "City"
                                    },
                                    {
                                        "name": "Country"
                                    },
                                    {
                                        "name": "Phone"
                                    }
                                ]
                            },
                            "data": [
                                {
                                    "0": "ALFKI",
                                    "1": "Maria Anders",
                                    "2": "Berlin",
                                    "3": "Germany",
                                    "4": "030-0074321"
                                },
                                {
                                    "0": "ANATR",
                                    "1": "Ana Trujillo",
                                    "2": "México D.F.",
                                    "3": "Mexico",
                                    "4": "(5) 555-4729"
                                },
                                {
                                    "0": "ANTON",
                                    "1": "Antonio Moreno",
                                    "2": "México D.F.",
                                    "3": "Mexico",
                                    "4": "(5) 555-3932"
                                },
                                {
                                    "0": "AROUT",
                                    "1": "Thomas Hardy",
                                    "2": "London",
                                    "3": "UK",
                                    "4": "(171) 555-7788"
                                },
                                {
                                    "0": "BERGS",
                                    "1": "Christina Berglund",
                                    "2": "Luleå",
                                    "3": "Sweden",
                                    "4": "0921-12 34 65"
                                },
                                {
                                    "0": "BLAUS",
                                    "1": "Hanna Moos",
                                    "2": "Mannheim",
                                    "3": "Germany",
                                    "4": "0621-08460"
                                },
                                {
                                    "0": "BLONP",
                                    "1": "Frédérique Citeaux",
                                    "2": "Strasbourg",
                                    "3": "France",
                                    "4": "88.60.15.31"
                                },
                                {
                                    "0": "BOLID",
                                    "1": "Martín Sommer",
                                    "2": "Madrid",
                                    "3": "Spain",
                                    "4": "(91) 555 22 82"
                                },
                                {
                                    "0": "BONAP",
                                    "1": "Laurence Lebihan",
                                    "2": "Marseille",
                                    "3": "France",
                                    "4": "91.24.45.40"
                                },
                                {
                                    "0": "BOTTM",
                                    "1": "Elizabeth Lincoln",
                                    "2": "Tsawassen",
                                    "3": "Canada",
                                    "4": "(604) 555-4729"
                                }
                            ]
                        },
                        "text/html": [
                            "<table>",
                            "<tr><th>CustomerID</th><th>ContactName</th><th>City</th><th>Country</th><th>Phone</th></tr>",
                            "<tr><td>ALFKI</td><td>Maria Anders</td><td>Berlin</td><td>Germany</td><td>030-0074321</td></tr>",
                            "<tr><td>ANATR</td><td>Ana Trujillo</td><td>México D.F.</td><td>Mexico</td><td>(5) 555-4729</td></tr>",
                            "<tr><td>ANTON</td><td>Antonio Moreno</td><td>México D.F.</td><td>Mexico</td><td>(5) 555-3932</td></tr>",
                            "<tr><td>AROUT</td><td>Thomas Hardy</td><td>London</td><td>UK</td><td>(171) 555-7788</td></tr>",
                            "<tr><td>BERGS</td><td>Christina Berglund</td><td>Luleå</td><td>Sweden</td><td>0921-12 34 65</td></tr>",
                            "<tr><td>BLAUS</td><td>Hanna Moos</td><td>Mannheim</td><td>Germany</td><td>0621-08460</td></tr>",
                            "<tr><td>BLONP</td><td>Frédérique Citeaux</td><td>Strasbourg</td><td>France</td><td>88.60.15.31</td></tr>",
                            "<tr><td>BOLID</td><td>Martín Sommer</td><td>Madrid</td><td>Spain</td><td>(91) 555 22 82</td></tr>",
                            "<tr><td>BONAP</td><td>Laurence Lebihan</td><td>Marseille</td><td>France</td><td>91.24.45.40</td></tr>",
                            "<tr><td>BOTTM</td><td>Elizabeth Lincoln</td><td>Tsawassen</td><td>Canada</td><td>(604) 555-4729</td></tr>",
                            "</table>"
                        ]
                    }
                },
                {
                    "output_type": "execute_result",
                    "metadata": {},
                    "execution_count": 3,
                    "data": {
                        "application/vnd.dataresource+json": {
                            "schema": {
                                "fields": [
                                    {
                                        "name": "OrderID"
                                    },
                                    {
                                        "name": "CustomerID"
                                    },
                                    {
                                        "name": "EmployeeID"
                                    },
                                    {
                                        "name": "OrderDate"
                                    },
                                    {
                                        "name": "RequiredDate"
                                    },
                                    {
                                        "name": "ShippedDate"
                                    },
                                    {
                                        "name": "ShipVia"
                                    },
                                    {
                                        "name": "Freight"
                                    },
                                    {
                                        "name": "ShipName"
                                    },
                                    {
                                        "name": "ShipAddress"
                                    },
                                    {
                                        "name": "ShipCity"
                                    },
                                    {
                                        "name": "ShipRegion"
                                    },
                                    {
                                        "name": "ShipPostalCode"
                                    },
                                    {
                                        "name": "ShipCountry"
                                    }
                                ]
                            },
                            "data": [
                                {
                                    "0": "10643",
                                    "1": "ALFKI",
                                    "2": "6",
                                    "3": "1997-08-25 00:00:00.000",
                                    "4": "1997-09-22 00:00:00.000",
                                    "5": "1997-09-02 00:00:00.000",
                                    "6": "1",
                                    "7": "29.4600",
                                    "8": "Alfreds Futterkiste",
                                    "9": "Obere Str. 57",
                                    "10": "Berlin",
                                    "11": "NULL",
                                    "12": "12209",
                                    "13": "Germany"
                                },
                                {
                                    "0": "10692",
                                    "1": "ALFKI",
                                    "2": "4",
                                    "3": "1997-10-03 00:00:00.000",
                                    "4": "1997-10-31 00:00:00.000",
                                    "5": "1997-10-13 00:00:00.000",
                                    "6": "2",
                                    "7": "61.0200",
                                    "8": "Alfred's Futterkiste",
                                    "9": "Obere Str. 57",
                                    "10": "Berlin",
                                    "11": "NULL",
                                    "12": "12209",
                                    "13": "Germany"
                                },
                                {
                                    "0": "10702",
                                    "1": "ALFKI",
                                    "2": "4",
                                    "3": "1997-10-13 00:00:00.000",
                                    "4": "1997-11-24 00:00:00.000",
                                    "5": "1997-10-21 00:00:00.000",
                                    "6": "1",
                                    "7": "23.9400",
                                    "8": "Alfred's Futterkiste",
                                    "9": "Obere Str. 57",
                                    "10": "Berlin",
                                    "11": "NULL",
                                    "12": "12209",
                                    "13": "Germany"
                                },
                                {
                                    "0": "10835",
                                    "1": "ALFKI",
                                    "2": "1",
                                    "3": "1998-01-15 00:00:00.000",
                                    "4": "1998-02-12 00:00:00.000",
                                    "5": "1998-01-21 00:00:00.000",
                                    "6": "3",
                                    "7": "69.5300",
                                    "8": "Alfred's Futterkiste",
                                    "9": "Obere Str. 57",
                                    "10": "Berlin",
                                    "11": "NULL",
                                    "12": "12209",
                                    "13": "Germany"
                                },
                                {
                                    "0": "10952",
                                    "1": "ALFKI",
                                    "2": "1",
                                    "3": "1998-03-16 00:00:00.000",
                                    "4": "1998-04-27 00:00:00.000",
                                    "5": "1998-03-24 00:00:00.000",
                                    "6": "1",
                                    "7": "40.4200",
                                    "8": "Alfred's Futterkiste",
                                    "9": "Obere Str. 57",
                                    "10": "Berlin",
                                    "11": "NULL",
                                    "12": "12209",
                                    "13": "Germany"
                                },
                                {
                                    "0": "11011",
                                    "1": "ALFKI",
                                    "2": "3",
                                    "3": "1998-04-09 00:00:00.000",
                                    "4": "1998-05-07 00:00:00.000",
                                    "5": "1998-04-13 00:00:00.000",
                                    "6": "1",
                                    "7": "1.2100",
                                    "8": "Alfred's Futterkiste",
                                    "9": "Obere Str. 57",
                                    "10": "Berlin",
                                    "11": "NULL",
                                    "12": "12209",
                                    "13": "Germany"
                                }
                            ]
                        },
                        "text/html": [
                            "<table>",
                            "<tr><th>OrderID</th><th>CustomerID</th><th>EmployeeID</th><th>OrderDate</th><th>RequiredDate</th><th>ShippedDate</th><th>ShipVia</th><th>Freight</th><th>ShipName</th><th>ShipAddress</th><th>ShipCity</th><th>ShipRegion</th><th>ShipPostalCode</th><th>ShipCountry</th></tr>",
                            "<tr><td>10643</td><td>ALFKI</td><td>6</td><td>1997-08-25 00:00:00.000</td><td>1997-09-22 00:00:00.000</td><td>1997-09-02 00:00:00.000</td><td>1</td><td>29.4600</td><td>Alfreds Futterkiste</td><td>Obere Str. 57</td><td>Berlin</td><td>NULL</td><td>12209</td><td>Germany</td></tr>",
                            "<tr><td>10692</td><td>ALFKI</td><td>4</td><td>1997-10-03 00:00:00.000</td><td>1997-10-31 00:00:00.000</td><td>1997-10-13 00:00:00.000</td><td>2</td><td>61.0200</td><td>Alfred's Futterkiste</td><td>Obere Str. 57</td><td>Berlin</td><td>NULL</td><td>12209</td><td>Germany</td></tr>",
                            "<tr><td>10702</td><td>ALFKI</td><td>4</td><td>1997-10-13 00:00:00.000</td><td>1997-11-24 00:00:00.000</td><td>1997-10-21 00:00:00.000</td><td>1</td><td>23.9400</td><td>Alfred's Futterkiste</td><td>Obere Str. 57</td><td>Berlin</td><td>NULL</td><td>12209</td><td>Germany</td></tr>",
                            "<tr><td>10835</td><td>ALFKI</td><td>1</td><td>1998-01-15 00:00:00.000</td><td>1998-02-12 00:00:00.000</td><td>1998-01-21 00:00:00.000</td><td>3</td><td>69.5300</td><td>Alfred's Futterkiste</td><td>Obere Str. 57</td><td>Berlin</td><td>NULL</td><td>12209</td><td>Germany</td></tr>",
                            "<tr><td>10952</td><td>ALFKI</td><td>1</td><td>1998-03-16 00:00:00.000</td><td>1998-04-27 00:00:00.000</td><td>1998-03-24 00:00:00.000</td><td>1</td><td>40.4200</td><td>Alfred's Futterkiste</td><td>Obere Str. 57</td><td>Berlin</td><td>NULL</td><td>12209</td><td>Germany</td></tr>",
                            "<tr><td>11011</td><td>ALFKI</td><td>3</td><td>1998-04-09 00:00:00.000</td><td>1998-05-07 00:00:00.000</td><td>1998-04-13 00:00:00.000</td><td>1</td><td>1.2100</td><td>Alfred's Futterkiste</td><td>Obere Str. 57</td><td>Berlin</td><td>NULL</td><td>12209</td><td>Germany</td></tr>",
                            "</table>"
                        ]
                    }
                },
                {
                    "output_type": "execute_result",
                    "metadata": {},
                    "execution_count": 3,
                    "data": {
                        "application/vnd.dataresource+json": {
                            "schema": {
                                "fields": [
                                    {
                                        "name": "ProductID"
                                    },
                                    {
                                        "name": "Orders Count"
                                    },
                                    {
                                        "name": "Sales"
                                    }
                                ]
                            },
                            "data": [
                                {
                                    "0": "38",
                                    "1": "24",
                                    "2": "141396.7352294922"
                                },
                                {
                                    "0": "29",
                                    "1": "32",
                                    "2": "80368.67193603516"
                                },
                                {
                                    "0": "59",
                                    "1": "54",
                                    "2": "71155.70001220703"
                                },
                                {
                                    "0": "62",
                                    "1": "48",
                                    "2": "47234.969566345215"
                                },
                                {
                                    "0": "60",
                                    "1": "51",
                                    "2": "46825.48030090332"
                                },
                                {
                                    "0": "56",
                                    "1": "50",
                                    "2": "42593.05981826782"
                                },
                                {
                                    "0": "51",
                                    "1": "39",
                                    "2": "41819.65034484863"
                                },
                                {
                                    "0": "17",
                                    "1": "37",
                                    "2": "32698.38013458252"
                                },
                                {
                                    "0": "18",
                                    "1": "27",
                                    "2": "29171.875"
                                },
                                {
                                    "0": "28",
                                    "1": "33",
                                    "2": "25696.63980102539"
                                },
                                {
                                    "0": "72",
                                    "1": "38",
                                    "2": "24900.129596710205"
                                },
                                {
                                    "0": "43",
                                    "1": "28",
                                    "2": "23526.70004272461"
                                },
                                {
                                    "0": "20",
                                    "1": "16",
                                    "2": "22563.360122680664"
                                },
                                {
                                    "0": "7",
                                    "1": "29",
                                    "2": "22044.29998779297"
                                },
                                {
                                    "0": "64",
                                    "1": "30",
                                    "2": "21957.967544555664"
                                },
                                {
                                    "0": "69",
                                    "1": "31",
                                    "2": "21942.359798431396"
                                },
                                {
                                    "0": "10",
                                    "1": "33",
                                    "2": "20867.339965820312"
                                },
                                {
                                    "0": "53",
                                    "1": "30",
                                    "2": "20574.169776916504"
                                },
                                {
                                    "0": "26",
                                    "1": "32",
                                    "2": "19849.144207000732"
                                },
                                {
                                    "0": "71",
                                    "1": "42",
                                    "2": "19551.025241851807"
                                },
                                {
                                    "0": "40",
                                    "1": "41",
                                    "2": "17910.629804611206"
                                },
                                {
                                    "0": "55",
                                    "1": "33",
                                    "2": "17426.40051651001"
                                },
                                {
                                    "0": "16",
                                    "1": "43",
                                    "2": "17215.77586364746"
                                },
                                {
                                    "0": "63",
                                    "1": "17",
                                    "2": "16701.094848632812"
                                },
                                {
                                    "0": "2",
                                    "1": "44",
                                    "2": "16355.9599609375"
                                },
                                {
                                    "0": "76",
                                    "1": "39",
                                    "2": "15760.439855575562"
                                },
                                {
                                    "0": "27",
                                    "1": "9",
                                    "2": "15099.874786376953"
                                },
                                {
                                    "0": "31",
                                    "1": "51",
                                    "2": "14920.875"
                                },
                                {
                                    "0": "61",
                                    "1": "24",
                                    "2": "14352.600051879883"
                                },
                                {
                                    "0": "65",
                                    "1": "32",
                                    "2": "13869.889793395996"
                                },
                                {
                                    "0": "35",
                                    "1": "36",
                                    "2": "13643.999885559082"
                                },
                                {
                                    "0": "36",
                                    "1": "31",
                                    "2": "13458.459968566895"
                                },
                                {
                                    "0": "30",
                                    "1": "32",
                                    "2": "13424.197231292725"
                                },
                                {
                                    "0": "11",
                                    "1": "38",
                                    "2": "12901.769828796387"
                                },
                                {
                                    "0": "1",
                                    "1": "38",
                                    "2": "12788.099876403809"
                                },
                                {
                                    "0": "8",
                                    "1": "13",
                                    "2": "12772"
                                },
                                {
                                    "0": "39",
                                    "1": "30",
                                    "2": "12294.539628982544"
                                },
                                {
                                    "0": "12",
                                    "1": "14",
                                    "2": "12257.65991973877"
                                },
                                {
                                    "0": "70",
                                    "1": "39",
                                    "2": "10672.64990234375"
                                },
                                {
                                    "0": "44",
                                    "1": "24",
                                    "2": "9915.945138931274"
                                },
                                {
                                    "0": "49",
                                    "1": "21",
                                    "2": "9244.600006103516"
                                },
                                {
                                    "0": "77",
                                    "1": "38",
                                    "2": "9171.629776000977"
                                },
                                {
                                    "0": "21",
                                    "1": "39",
                                    "2": "9104"
                                },
                                {
                                    "0": "68",
                                    "1": "34",
                                    "2": "8714"
                                },
                                {
                                    "0": "41",
                                    "1": "47",
                                    "2": "8680.344747543335"
                                },
                                {
                                    "0": "42",
                                    "1": "30",
                                    "2": "8574.9999294281"
                                },
                                {
                                    "0": "4",
                                    "1": "20",
                                    "2": "8567.900024414062"
                                },
                                {
                                    "0": "32",
                                    "1": "15",
                                    "2": "8404.160034179688"
                                },
                                {
                                    "0": "75",
                                    "1": "46",
                                    "2": "8177.489952087402"
                                },
                                {
                                    "0": "14",
                                    "1": "22",
                                    "2": "7991.490064620972"
                                },
                                {
                                    "0": "57",
                                    "1": "23",
                                    "2": "7661.550022125244"
                                },
                                {
                                    "0": "9",
                                    "1": "5",
                                    "2": "7226.5"
                                },
                                {
                                    "0": "6",
                                    "1": "12",
                                    "2": "7137"
                                },
                                {
                                    "0": "22",
                                    "1": "14",
                                    "2": "7122.3599853515625"
                                },
                                {
                                    "0": "34",
                                    "1": "19",
                                    "2": "6350.399993896484"
                                },
                                {
                                    "0": "46",
                                    "1": "27",
                                    "2": "5883.000052452087"
                                },
                                {
                                    "0": "58",
                                    "1": "18",
                                    "2": "5881.674987792969"
                                },
                                {
                                    "0": "19",
                                    "1": "37",
                                    "2": "5862.61998462677"
                                },
                                {
                                    "0": "5",
                                    "1": "10",
                                    "2": "5347.200050354004"
                                },
                                {
                                    "0": "13",
                                    "1": "40",
                                    "2": "4960.440064430237"
                                },
                                {
                                    "0": "54",
                                    "1": "36",
                                    "2": "4728.237489700317"
                                },
                                {
                                    "0": "23",
                                    "1": "20",
                                    "2": "4601.699951171875"
                                },
                                {
                                    "0": "24",
                                    "1": "51",
                                    "2": "4504.364936828613"
                                },
                                {
                                    "0": "45",
                                    "1": "14",
                                    "2": "4338.174987792969"
                                },
                                {
                                    "0": "73",
                                    "1": "14",
                                    "2": "3997.1999855041504"
                                },
                                {
                                    "0": "47",
                                    "1": "21",
                                    "2": "3958.0800018310547"
                                },
                                {
                                    "0": "25",
                                    "1": "18",
                                    "2": "3704.3999519348145"
                                },
                                {
                                    "0": "50",
                                    "1": "10",
                                    "2": "3437.6875"
                                },
                                {
                                    "0": "66",
                                    "1": "8",
                                    "2": "3383.000030517578"
                                },
                                {
                                    "0": "52",
                                    "1": "29",
                                    "2": "3232.949998855591"
                                },
                                {
                                    "0": "3",
                                    "1": "12",
                                    "2": "3044"
                                },
                                {
                                    "0": "37",
                                    "1": "6",
                                    "2": "2688.4000663757324"
                                },
                                {
                                    "0": "74",
                                    "1": "13",
                                    "2": "2432.5"
                                },
                                {
                                    "0": "67",
                                    "1": "10",
                                    "2": "2396.800018310547"
                                },
                                {
                                    "0": "15",
                                    "1": "6",
                                    "2": "1784.8249969482422"
                                },
                                {
                                    "0": "33",
                                    "1": "32",
                                    "2": "1648.125"
                                },
                                {
                                    "0": "48",
                                    "1": "6",
                                    "2": "1368.7125396728516"
                                }
                            ]
                        },
                        "text/html": [
                            "<table>",
                            "<tr><th>ProductID</th><th>Orders Count</th><th>Sales</th></tr>",
                            "<tr><td>38</td><td>24</td><td>141396.7352294922</td></tr>",
                            "<tr><td>29</td><td>32</td><td>80368.67193603516</td></tr>",
                            "<tr><td>59</td><td>54</td><td>71155.70001220703</td></tr>",
                            "<tr><td>62</td><td>48</td><td>47234.969566345215</td></tr>",
                            "<tr><td>60</td><td>51</td><td>46825.48030090332</td></tr>",
                            "<tr><td>56</td><td>50</td><td>42593.05981826782</td></tr>",
                            "<tr><td>51</td><td>39</td><td>41819.65034484863</td></tr>",
                            "<tr><td>17</td><td>37</td><td>32698.38013458252</td></tr>",
                            "<tr><td>18</td><td>27</td><td>29171.875</td></tr>",
                            "<tr><td>28</td><td>33</td><td>25696.63980102539</td></tr>",
                            "<tr><td>72</td><td>38</td><td>24900.129596710205</td></tr>",
                            "<tr><td>43</td><td>28</td><td>23526.70004272461</td></tr>",
                            "<tr><td>20</td><td>16</td><td>22563.360122680664</td></tr>",
                            "<tr><td>7</td><td>29</td><td>22044.29998779297</td></tr>",
                            "<tr><td>64</td><td>30</td><td>21957.967544555664</td></tr>",
                            "<tr><td>69</td><td>31</td><td>21942.359798431396</td></tr>",
                            "<tr><td>10</td><td>33</td><td>20867.339965820312</td></tr>",
                            "<tr><td>53</td><td>30</td><td>20574.169776916504</td></tr>",
                            "<tr><td>26</td><td>32</td><td>19849.144207000732</td></tr>",
                            "<tr><td>71</td><td>42</td><td>19551.025241851807</td></tr>",
                            "<tr><td>40</td><td>41</td><td>17910.629804611206</td></tr>",
                            "<tr><td>55</td><td>33</td><td>17426.40051651001</td></tr>",
                            "<tr><td>16</td><td>43</td><td>17215.77586364746</td></tr>",
                            "<tr><td>63</td><td>17</td><td>16701.094848632812</td></tr>",
                            "<tr><td>2</td><td>44</td><td>16355.9599609375</td></tr>",
                            "<tr><td>76</td><td>39</td><td>15760.439855575562</td></tr>",
                            "<tr><td>27</td><td>9</td><td>15099.874786376953</td></tr>",
                            "<tr><td>31</td><td>51</td><td>14920.875</td></tr>",
                            "<tr><td>61</td><td>24</td><td>14352.600051879883</td></tr>",
                            "<tr><td>65</td><td>32</td><td>13869.889793395996</td></tr>",
                            "<tr><td>35</td><td>36</td><td>13643.999885559082</td></tr>",
                            "<tr><td>36</td><td>31</td><td>13458.459968566895</td></tr>",
                            "<tr><td>30</td><td>32</td><td>13424.197231292725</td></tr>",
                            "<tr><td>11</td><td>38</td><td>12901.769828796387</td></tr>",
                            "<tr><td>1</td><td>38</td><td>12788.099876403809</td></tr>",
                            "<tr><td>8</td><td>13</td><td>12772</td></tr>",
                            "<tr><td>39</td><td>30</td><td>12294.539628982544</td></tr>",
                            "<tr><td>12</td><td>14</td><td>12257.65991973877</td></tr>",
                            "<tr><td>70</td><td>39</td><td>10672.64990234375</td></tr>",
                            "<tr><td>44</td><td>24</td><td>9915.945138931274</td></tr>",
                            "<tr><td>49</td><td>21</td><td>9244.600006103516</td></tr>",
                            "<tr><td>77</td><td>38</td><td>9171.629776000977</td></tr>",
                            "<tr><td>21</td><td>39</td><td>9104</td></tr>",
                            "<tr><td>68</td><td>34</td><td>8714</td></tr>",
                            "<tr><td>41</td><td>47</td><td>8680.344747543335</td></tr>",
                            "<tr><td>42</td><td>30</td><td>8574.9999294281</td></tr>",
                            "<tr><td>4</td><td>20</td><td>8567.900024414062</td></tr>",
                            "<tr><td>32</td><td>15</td><td>8404.160034179688</td></tr>",
                            "<tr><td>75</td><td>46</td><td>8177.489952087402</td></tr>",
                            "<tr><td>14</td><td>22</td><td>7991.490064620972</td></tr>",
                            "<tr><td>57</td><td>23</td><td>7661.550022125244</td></tr>",
                            "<tr><td>9</td><td>5</td><td>7226.5</td></tr>",
                            "<tr><td>6</td><td>12</td><td>7137</td></tr>",
                            "<tr><td>22</td><td>14</td><td>7122.3599853515625</td></tr>",
                            "<tr><td>34</td><td>19</td><td>6350.399993896484</td></tr>",
                            "<tr><td>46</td><td>27</td><td>5883.000052452087</td></tr>",
                            "<tr><td>58</td><td>18</td><td>5881.674987792969</td></tr>",
                            "<tr><td>19</td><td>37</td><td>5862.61998462677</td></tr>",
                            "<tr><td>5</td><td>10</td><td>5347.200050354004</td></tr>",
                            "<tr><td>13</td><td>40</td><td>4960.440064430237</td></tr>",
                            "<tr><td>54</td><td>36</td><td>4728.237489700317</td></tr>",
                            "<tr><td>23</td><td>20</td><td>4601.699951171875</td></tr>",
                            "<tr><td>24</td><td>51</td><td>4504.364936828613</td></tr>",
                            "<tr><td>45</td><td>14</td><td>4338.174987792969</td></tr>",
                            "<tr><td>73</td><td>14</td><td>3997.1999855041504</td></tr>",
                            "<tr><td>47</td><td>21</td><td>3958.0800018310547</td></tr>",
                            "<tr><td>25</td><td>18</td><td>3704.3999519348145</td></tr>",
                            "<tr><td>50</td><td>10</td><td>3437.6875</td></tr>",
                            "<tr><td>66</td><td>8</td><td>3383.000030517578</td></tr>",
                            "<tr><td>52</td><td>29</td><td>3232.949998855591</td></tr>",
                            "<tr><td>3</td><td>12</td><td>3044</td></tr>",
                            "<tr><td>37</td><td>6</td><td>2688.4000663757324</td></tr>",
                            "<tr><td>74</td><td>13</td><td>2432.5</td></tr>",
                            "<tr><td>67</td><td>10</td><td>2396.800018310547</td></tr>",
                            "<tr><td>15</td><td>6</td><td>1784.8249969482422</td></tr>",
                            "<tr><td>33</td><td>32</td><td>1648.125</td></tr>",
                            "<tr><td>48</td><td>6</td><td>1368.7125396728516</td></tr>",
                            "</table>"
                        ]
                    }
                }
            ],
            "execution_count": 3
        }
    ]
}